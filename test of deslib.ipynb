{
 "cells": [
  {
   "cell_type": "markdown",
   "metadata": {},
   "source": [
    "The library also support a heterogenous pool of classifiers. A pool is called heterogeneous when different classifier models are used to generate a diverse pool of classifiers (e.g., svm, decision tree, naive bayes...)\n",
    "\n"
   ]
  },
  {
   "cell_type": "code",
   "execution_count": 2,
   "metadata": {},
   "outputs": [],
   "source": [
    "from deslib.dcs.a_posteriori import APosteriori\n",
    "from deslib.dcs.mcb import MCB\n",
    "from deslib.dcs.lca import LCA\n",
    "from deslib.des.probabilistic import RRC\n",
    "from deslib.des.knop import KNOP\n",
    "from deslib.des.knora_e import KNORAE\n",
    "\n",
    "# Base classifier models:\n",
    "from sklearn.linear_model import Perceptron\n",
    "from sklearn.model_selection import train_test_split\n",
    "from sklearn.naive_bayes import GaussianNB\n",
    "from sklearn.neighbors import KNeighborsClassifier\n",
    "from sklearn.svm import LinearSVC\n",
    "from sklearn.svm import SVC\n",
    "from sklearn.tree import DecisionTreeClassifier\n",
    "from sklearn.calibration import CalibratedClassifierCV\n",
    "\n",
    "# Importing dataset\n",
    "from sklearn.datasets import load_breast_cancer\n",
    "from sklearn.preprocessing import StandardScaler"
   ]
  },
  {
   "cell_type": "code",
   "execution_count": 16,
   "metadata": {
    "collapsed": true
   },
   "outputs": [],
   "source": [
    "data = load_breast_cancer()\n",
    "X = data.data\n",
    "y = data.target"
   ]
  },
  {
   "cell_type": "code",
   "execution_count": 4,
   "metadata": {
    "collapsed": true
   },
   "outputs": [],
   "source": [
    "# split the data into training and test data\n",
    "X_train, X_test, y_train, y_test = train_test_split(X, y, test_size=0.33)"
   ]
  },
  {
   "cell_type": "code",
   "execution_count": 5,
   "metadata": {
    "collapsed": true
   },
   "outputs": [],
   "source": [
    "scaler = StandardScaler()\n",
    "X_train = scaler.fit_transform(X_train)\n",
    "X_test = scaler.transform(X_test)"
   ]
  },
  {
   "cell_type": "code",
   "execution_count": 6,
   "metadata": {
    "collapsed": true
   },
   "outputs": [],
   "source": [
    "# Split the data into training and DSEL for DS techniques\n",
    "X_train, X_dsel, y_train, y_dsel = train_test_split(X, y, test_size=0.5)"
   ]
  },
  {
   "cell_type": "code",
   "execution_count": 7,
   "metadata": {},
   "outputs": [
    {
     "name": "stderr",
     "output_type": "stream",
     "text": [
      "D:\\Anaconda3\\lib\\site-packages\\sklearn\\calibration.py:435: RuntimeWarning: overflow encountered in exp\n",
      "  E = np.exp(AB[0] * F + AB[1])\n",
      "D:\\Anaconda3\\lib\\site-packages\\sklearn\\calibration.py:445: RuntimeWarning: overflow encountered in exp\n",
      "  E = np.exp(AB[0] * F + AB[1])\n",
      "D:\\Anaconda3\\lib\\site-packages\\sklearn\\calibration.py:447: RuntimeWarning: invalid value encountered in multiply\n",
      "  TEP_minus_T1P = P * (T * E - T1)\n",
      "D:\\Anaconda3\\lib\\site-packages\\sklearn\\calibration.py:435: RuntimeWarning: overflow encountered in exp\n",
      "  E = np.exp(AB[0] * F + AB[1])\n",
      "D:\\Anaconda3\\lib\\site-packages\\sklearn\\calibration.py:435: RuntimeWarning: overflow encountered in exp\n",
      "  E = np.exp(AB[0] * F + AB[1])\n",
      "D:\\Anaconda3\\lib\\site-packages\\sklearn\\calibration.py:445: RuntimeWarning: overflow encountered in exp\n",
      "  E = np.exp(AB[0] * F + AB[1])\n",
      "D:\\Anaconda3\\lib\\site-packages\\sklearn\\calibration.py:447: RuntimeWarning: invalid value encountered in multiply\n",
      "  TEP_minus_T1P = P * (T * E - T1)\n",
      "D:\\Anaconda3\\lib\\site-packages\\sklearn\\calibration.py:435: RuntimeWarning: overflow encountered in exp\n",
      "  E = np.exp(AB[0] * F + AB[1])\n",
      "D:\\Anaconda3\\lib\\site-packages\\sklearn\\calibration.py:435: RuntimeWarning: overflow encountered in exp\n",
      "  E = np.exp(AB[0] * F + AB[1])\n",
      "D:\\Anaconda3\\lib\\site-packages\\sklearn\\calibration.py:445: RuntimeWarning: overflow encountered in exp\n",
      "  E = np.exp(AB[0] * F + AB[1])\n",
      "D:\\Anaconda3\\lib\\site-packages\\sklearn\\calibration.py:447: RuntimeWarning: invalid value encountered in multiply\n",
      "  TEP_minus_T1P = P * (T * E - T1)\n",
      "D:\\Anaconda3\\lib\\site-packages\\sklearn\\calibration.py:435: RuntimeWarning: overflow encountered in exp\n",
      "  E = np.exp(AB[0] * F + AB[1])\n"
     ]
    }
   ],
   "source": [
    "model_perceptron = CalibratedClassifierCV(Perceptron(max_iter=100)).fit(X_train, y_train)\n",
    "model_linear_svm = CalibratedClassifierCV(LinearSVC()).fit(X_train, y_train)\n",
    "model_svc = SVC(probability=True).fit(X_train, y_train)\n",
    "model_bayes = GaussianNB().fit(X_train, y_train)\n",
    "model_tree = DecisionTreeClassifier().fit(X_train, y_train)\n",
    "model_knn = KNeighborsClassifier(n_neighbors=5).fit(X_train, y_train)\n",
    "pool_classifiers = [model_perceptron, model_linear_svm, model_svc, model_bayes,  model_tree, model_knn]"
   ]
  },
  {
   "cell_type": "code",
   "execution_count": 8,
   "metadata": {
    "collapsed": true
   },
   "outputs": [],
   "source": [
    "# Initializing the DS techniques\n",
    "knop = KNOP(pool_classifiers)\n",
    "rrc = RRC(pool_classifiers)\n",
    "lca = LCA(pool_classifiers)\n",
    "mcb = MCB(pool_classifiers)\n",
    "aposteriori = APosteriori(pool_classifiers)"
   ]
  },
  {
   "cell_type": "code",
   "execution_count": 9,
   "metadata": {},
   "outputs": [
    {
     "data": {
      "text/plain": [
       "<deslib.dcs.a_posteriori.APosteriori at 0x20ecf2c0d30>"
      ]
     },
     "execution_count": 9,
     "metadata": {},
     "output_type": "execute_result"
    }
   ],
   "source": [
    "# Fitting the techniques\n",
    "knop.fit(X_dsel, y_dsel)\n",
    "rrc.fit(X_dsel, y_dsel)\n",
    "lca.fit(X_dsel, y_dsel)\n",
    "mcb.fit(X_dsel, y_dsel)\n",
    "aposteriori.fit(X_dsel, y_dsel)"
   ]
  },
  {
   "cell_type": "code",
   "execution_count": 10,
   "metadata": {},
   "outputs": [
    {
     "name": "stdout",
     "output_type": "stream",
     "text": [
      "Evaluating DS techniques:\n",
      "Classification accuracy KNOP:  0.563829787234\n"
     ]
    },
    {
     "name": "stderr",
     "output_type": "stream",
     "text": [
      "D:\\Anaconda3\\lib\\site-packages\\deslib\\des\\probabilistic.py:134: RuntimeWarning: invalid value encountered in double_scalars\n",
      "  competences[clf_index] = np.sum(temp_competence)/sum_potential\n"
     ]
    },
    {
     "name": "stdout",
     "output_type": "stream",
     "text": [
      "Classification accuracy RRC:  0.563829787234\n",
      "Classification accuracy LCA:  0.563829787234\n",
      "Classification accuracy A posteriori:  0.563829787234\n"
     ]
    }
   ],
   "source": [
    "# Calculate classification accuracy of each technique\n",
    "print('Evaluating DS techniques:')\n",
    "print('Classification accuracy KNOP: ', knop.score(X_test, y_test))\n",
    "print('Classification accuracy RRC: ', rrc.score(X_test, y_test))\n",
    "print('Classification accuracy LCA: ', lca.score(X_test, y_test))\n",
    "print('Classification accuracy A posteriori: ', aposteriori.score(X_test, y_test))"
   ]
  },
  {
   "cell_type": "code",
   "execution_count": 22,
   "metadata": {},
   "outputs": [
    {
     "data": {
      "text/plain": [
       "array([ 1.,  1.,  1.,  1.,  1.,  1.,  1.,  1.,  1.,  1.,  1.,  1.,  1.,\n",
       "        1.,  1.,  1.,  1.,  1.,  1.,  1.,  1.,  1.,  1.,  1.,  1.,  1.,\n",
       "        1.,  1.,  1.,  1.,  1.,  1.,  1.,  1.,  1.,  1.,  1.,  1.,  1.,\n",
       "        1.,  1.,  1.,  1.,  1.,  1.,  1.,  1.,  1.,  1.,  1.,  1.,  1.,\n",
       "        1.,  1.,  1.,  1.,  1.,  1.,  1.,  1.,  1.,  1.,  1.,  1.,  1.,\n",
       "        1.,  1.,  1.,  1.,  1.,  1.,  1.,  1.,  1.,  1.,  1.,  1.,  1.,\n",
       "        1.,  1.,  1.,  1.,  1.,  1.,  1.,  1.,  1.,  1.,  1.,  1.,  1.,\n",
       "        1.,  1.,  1.,  1.,  1.,  1.,  1.,  1.,  1.,  1.,  1.,  1.,  1.,\n",
       "        1.,  1.,  1.,  1.,  1.,  1.,  1.,  1.,  1.,  1.,  1.,  1.,  1.,\n",
       "        1.,  1.,  1.,  1.,  1.,  1.,  1.,  1.,  1.,  1.,  1.,  1.,  1.,\n",
       "        1.,  1.,  1.,  1.,  1.,  1.,  1.,  1.,  1.,  1.,  1.,  1.,  1.,\n",
       "        1.,  1.,  1.,  1.,  1.,  1.,  1.,  1.,  1.,  1.,  1.,  1.,  1.,\n",
       "        1.,  1.,  1.,  1.,  1.,  1.,  1.,  1.,  1.,  1.,  1.,  1.,  1.,\n",
       "        1.,  1.,  1.,  1.,  1.,  1.,  1.,  1.,  1.,  1.,  1.,  1.,  1.,\n",
       "        1.,  1.,  1.,  1.,  1.,  1.])"
      ]
     },
     "execution_count": 22,
     "metadata": {},
     "output_type": "execute_result"
    }
   ],
   "source": [
    "knop.predict(X_test)"
   ]
  },
  {
   "cell_type": "code",
   "execution_count": 20,
   "metadata": {},
   "outputs": [
    {
     "data": {
      "text/plain": [
       "array([[  9.46500000e+00,   2.10100000e+01,   6.01100000e+01, ...,\n",
       "          6.51700000e-02,   2.87800000e-01,   9.21100000e-02],\n",
       "       [  1.27200000e+01,   1.76700000e+01,   8.09800000e+01, ...,\n",
       "          3.61200000e-02,   2.16500000e-01,   6.02500000e-02],\n",
       "       [  1.61400000e+01,   1.48600000e+01,   1.04300000e+02, ...,\n",
       "          1.12900000e-01,   2.77800000e-01,   7.01200000e-02],\n",
       "       ..., \n",
       "       [  1.70500000e+01,   1.90800000e+01,   1.13400000e+02, ...,\n",
       "          2.54300000e-01,   3.10900000e-01,   9.06100000e-02],\n",
       "       [  9.90400000e+00,   1.80600000e+01,   6.46000000e+01, ...,\n",
       "          9.91000000e-02,   2.61400000e-01,   1.16200000e-01],\n",
       "       [  1.76800000e+01,   2.07400000e+01,   1.17400000e+02, ...,\n",
       "          1.51500000e-01,   2.46300000e-01,   7.73800000e-02]])"
      ]
     },
     "execution_count": 20,
     "metadata": {},
     "output_type": "execute_result"
    }
   ],
   "source": [
    "X_dsel"
   ]
  },
  {
   "cell_type": "code",
   "execution_count": null,
   "metadata": {
    "collapsed": true
   },
   "outputs": [],
   "source": []
  }
 ],
 "metadata": {
  "kernelspec": {
   "display_name": "Python 3",
   "language": "python",
   "name": "python3"
  },
  "language_info": {
   "codemirror_mode": {
    "name": "ipython",
    "version": 3
   },
   "file_extension": ".py",
   "mimetype": "text/x-python",
   "name": "python",
   "nbconvert_exporter": "python",
   "pygments_lexer": "ipython3",
   "version": "3.6.3"
  }
 },
 "nbformat": 4,
 "nbformat_minor": 2
}
